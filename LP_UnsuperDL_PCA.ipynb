{
  "nbformat": 4,
  "nbformat_minor": 0,
  "metadata": {
    "colab": {
      "provenance": [],
      "authorship_tag": "ABX9TyPm5EV6l/FoOfeHwQUh06M6",
      "include_colab_link": true
    },
    "kernelspec": {
      "name": "python3",
      "display_name": "Python 3"
    },
    "language_info": {
      "name": "python"
    }
  },
  "cells": [
    {
      "cell_type": "markdown",
      "metadata": {
        "id": "view-in-github",
        "colab_type": "text"
      },
      "source": [
        "<a href=\"https://colab.research.google.com/github/Hackathorn/WILS-MNIST/blob/main/LP_UnsuperDL_PCA.ipynb\" target=\"_parent\"><img src=\"https://colab.research.google.com/assets/colab-badge.svg\" alt=\"Open In Colab\"/></a>"
      ]
    },
    {
      "cell_type": "code",
      "execution_count": null,
      "metadata": {
        "id": "gilkQ-l1YdV4"
      },
      "outputs": [],
      "source": [
        "# https://deeplearningcourses.com/c/unsupervised-deep-learning-in-python\n",
        "# https://www.udemy.com/unsupervised-deep-learning-in-python\n",
        "from __future__ import print_function, division\n",
        "from builtins import range, input\n",
        "# Note: you may need to update your version of future\n",
        "# sudo pip install -U future\n",
        "\n",
        "import numpy as np\n",
        "import matplotlib.pyplot as plt\n",
        "\n",
        "from sklearn.decomposition import PCA\n",
        "from util import getKaggleMNIST\n",
        "\n",
        "def main():\n",
        "    Xtrain, Ytrain, Xtest, Ytest = getKaggleMNIST()\n",
        "\n",
        "    pca = PCA()\n",
        "    reduced = pca.fit_transform(Xtrain)\n",
        "    plt.scatter(reduced[:,0], reduced[:,1], s=100, c=Ytrain, alpha=0.5)\n",
        "    plt.show()\n",
        "\n",
        "    plt.plot(pca.explained_variance_ratio_)\n",
        "    plt.show()\n",
        "\n",
        "    # cumulative variance\n",
        "    # choose k = number of dimensions that gives us 95-99% variance\n",
        "    cumulative = []\n",
        "    last = 0\n",
        "    for v in pca.explained_variance_ratio_:\n",
        "        cumulative.append(last + v)\n",
        "        last = cumulative[-1]\n",
        "    plt.plot(cumulative)\n",
        "    plt.show()\n",
        "\n",
        "if __name__ == '__main__':\n",
        "    main()"
      ]
    }
  ]
}